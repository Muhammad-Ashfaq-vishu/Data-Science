{
 "cells": [
  {
   "cell_type": "markdown",
   "id": "1529b833",
   "metadata": {},
   "source": [
    "Q no 1 Create variables to store your name, age, and city, then print them in one line."
   ]
  },
  {
   "cell_type": "code",
   "execution_count": 4,
   "id": "9479f99c",
   "metadata": {},
   "outputs": [
    {
     "name": "stdout",
     "output_type": "stream",
     "text": [
      "{'name': 'Muhammad Ashfaq', 'age': 18, 'city': 'Peshawar'}\n"
     ]
    }
   ],
   "source": [
    "var = {\n",
    "    \"name\": \"Muhammad Ashfaq\",\n",
    "    \"age\": 18,\n",
    "    \"city\": \"Peshawar\"\n",
    "}\n",
    "print(var)\n"
   ]
  },
  {
   "cell_type": "markdown",
   "id": "c1b76340",
   "metadata": {},
   "source": [
    "Q no 2 : Assign values 10, 20.5, and \"Python\" to variables and print their types using type()."
   ]
  },
  {
   "cell_type": "code",
   "execution_count": 5,
   "id": "191b763b",
   "metadata": {},
   "outputs": [
    {
     "name": "stdout",
     "output_type": "stream",
     "text": [
      "<class 'int'>\n",
      "<class 'float'>\n",
      "<class 'str'>\n"
     ]
    }
   ],
   "source": [
    "a = 10\n",
    "b = 20.5\n",
    "c = \"vishu\"\n",
    "\n",
    "print(type(a))\n",
    "print(type(b))\n",
    "print(type(c))"
   ]
  },
  {
   "cell_type": "markdown",
   "id": "d8ad491d",
   "metadata": {},
   "source": [
    "Q no 3 Swap two variables and print the result."
   ]
  },
  {
   "cell_type": "code",
   "execution_count": 7,
   "id": "9ce4e507",
   "metadata": {},
   "outputs": [
    {
     "name": "stdout",
     "output_type": "stream",
     "text": [
      "a 20\n",
      "b 10\n"
     ]
    }
   ],
   "source": [
    "a = 10\n",
    "b = 20\n",
    "\n",
    "# swapping\n",
    "\n",
    "a, b  = b, a\n",
    "\n",
    "print(\"a\", a)\n",
    "print(\"b\", b)"
   ]
  },
  {
   "cell_type": "markdown",
   "id": "7a9b089d",
   "metadata": {},
   "source": [
    "  Q no 4: Assign the same value to three variables and print them."
   ]
  },
  {
   "cell_type": "code",
   "execution_count": 10,
   "id": "5291ac67",
   "metadata": {},
   "outputs": [
    {
     "name": "stdout",
     "output_type": "stream",
     "text": [
      "20 20 20\n"
     ]
    }
   ],
   "source": [
    "val = 20\n",
    "\n",
    "a = val \n",
    "b = val \n",
    "c = val\n",
    "print(a, b , c)\n"
   ]
  },
  {
   "cell_type": "markdown",
   "id": "c6bacf70",
   "metadata": {},
   "source": [
    " Q no 5 : Assign multiple values in one line (unpacking)."
   ]
  },
  {
   "cell_type": "code",
   "execution_count": 11,
   "id": "b6efaec7",
   "metadata": {},
   "outputs": [
    {
     "name": "stdout",
     "output_type": "stream",
     "text": [
      "10\n",
      "12.5\n",
      "vishu\n"
     ]
    }
   ],
   "source": [
    "a , b , c = 10, 12.5, \"vishu\"\n",
    "\n",
    "print(a)\n",
    "print(b)\n",
    "print(c)"
   ]
  },
  {
   "cell_type": "markdown",
   "id": "9548ed52",
   "metadata": {},
   "source": [
    " Q no 6 : Store marks of 5 subjects and calculate the total and average."
   ]
  },
  {
   "cell_type": "code",
   "execution_count": 20,
   "id": "3ee4e15a",
   "metadata": {},
   "outputs": [
    {
     "name": "stdout",
     "output_type": "stream",
     "text": [
      "380\n",
      "76.0\n"
     ]
    }
   ],
   "source": [
    "bio = 51\n",
    "computer = 96\n",
    "maths = 91\n",
    "urdu = 61\n",
    "physics = 81\n",
    "\n",
    "total = bio + computer + maths + urdu + physics\n",
    "print(total)\n",
    "print(total / 5)\n",
    "\n",
    "\n"
   ]
  },
  {
   "cell_type": "markdown",
   "id": "9a8113a0",
   "metadata": {},
   "source": [
    "Q NO : 7 Check the type of \"123\" and 123."
   ]
  },
  {
   "cell_type": "code",
   "execution_count": 21,
   "id": "1179bfa4",
   "metadata": {},
   "outputs": [
    {
     "name": "stdout",
     "output_type": "stream",
     "text": [
      "<class 'int'>\n",
      "<class 'str'>\n"
     ]
    }
   ],
   "source": [
    "a = 123\n",
    "b = \"123\"\n",
    "\n",
    "print(type(a))\n",
    "print(type(b))"
   ]
  },
  {
   "cell_type": "markdown",
   "id": "59837dec",
   "metadata": {},
   "source": [
    " q no : 8 Convert a float number to integer and print both values."
   ]
  },
  {
   "cell_type": "code",
   "execution_count": 23,
   "id": "eef1a870",
   "metadata": {},
   "outputs": [
    {
     "name": "stdout",
     "output_type": "stream",
     "text": [
      "<class 'int'>\n",
      "<class 'float'>\n"
     ]
    }
   ],
   "source": [
    " a = 12.5\n",
    " print(type(int(a)))\n",
    " print(type((a)))"
   ]
  },
  {
   "cell_type": "markdown",
   "id": "87ce3fcf",
   "metadata": {},
   "source": [
    "Q no 9 : Create a list of your 3 favorite colors and print it."
   ]
  },
  {
   "cell_type": "code",
   "execution_count": 24,
   "id": "6b378d1c",
   "metadata": {},
   "outputs": [
    {
     "name": "stdout",
     "output_type": "stream",
     "text": [
      "['black', 'blue', 'purple']\n"
     ]
    }
   ],
   "source": [
    "a = [\"black\", \"blue\", \"purple\"]\n",
    "print(a)"
   ]
  },
  {
   "cell_type": "markdown",
   "id": "1d53e19a",
   "metadata": {},
   "source": [
    "q no 10 Assign None to a variable and print its type."
   ]
  },
  {
   "cell_type": "code",
   "execution_count": 26,
   "id": "699add13",
   "metadata": {},
   "outputs": [
    {
     "name": "stdout",
     "output_type": "stream",
     "text": [
      "<class 'NoneType'>\n"
     ]
    }
   ],
   "source": [
    " var = None\n",
    " print(type(var))"
   ]
  },
  {
   "cell_type": "markdown",
   "id": "aa149cc3",
   "metadata": {},
   "source": [
    "Q no 11 Take your name as input and print Hello, name.\n"
   ]
  },
  {
   "cell_type": "code",
   "execution_count": null,
   "id": "fc4b89da",
   "metadata": {},
   "outputs": [],
   "source": [
    "name =  input(\"Enter your name\")\n",
    "print(name)"
   ]
  }
 ],
 "metadata": {
  "kernelspec": {
   "display_name": "Python 3",
   "language": "python",
   "name": "python3"
  },
  "language_info": {
   "codemirror_mode": {
    "name": "ipython",
    "version": 3
   },
   "file_extension": ".py",
   "mimetype": "text/x-python",
   "name": "python",
   "nbconvert_exporter": "python",
   "pygments_lexer": "ipython3",
   "version": "3.13.2"
  }
 },
 "nbformat": 4,
 "nbformat_minor": 5
}
