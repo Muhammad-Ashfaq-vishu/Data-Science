{
 "cells": [
  {
   "cell_type": "markdown",
   "id": "651dc767",
   "metadata": {},
   "source": [
    "what is python?\n",
    " \n",
    " - python is sample and easy language \n",
    " - free and open source\n",
    " - High level langugae \n",
    " - devolped by Guide van ressam\n",
    " - portable\n",
    " "
   ]
  },
  {
   "cell_type": "markdown",
   "id": "5d30e231",
   "metadata": {},
   "source": [
    "Our first code"
   ]
  },
  {
   "cell_type": "code",
   "execution_count": 1,
   "id": "663c590b",
   "metadata": {},
   "outputs": [
    {
     "name": "stdout",
     "output_type": "stream",
     "text": [
      "Hello wrod\n",
      "MY name is Muhammad Ashfaq vishu and i start lerning Data sciense from scartch\n"
     ]
    }
   ],
   "source": [
    "print(\"Hello wrod\")\n",
    "print(\"MY name is Muhammad Ashfaq vishu and i start lerning Data sciense from scartch\")"
   ]
  },
  {
   "cell_type": "markdown",
   "id": "a854ebde",
   "metadata": {},
   "source": [
    "variable\n",
    "\n",
    "A varibales is a name given to a memoery locations in a program."
   ]
  },
  {
   "cell_type": "code",
   "execution_count": 3,
   "id": "1f8c522b",
   "metadata": {},
   "outputs": [
    {
     "name": "stdout",
     "output_type": "stream",
     "text": [
      " my name is vishu 18 9.99\n"
     ]
    }
   ],
   "source": [
    "name = \" my name is vishu\"\n",
    "age = 18\n",
    "price = 9.99\n",
    "print(name, age, price)"
   ]
  },
  {
   "cell_type": "markdown",
   "id": "89cf1a5e",
   "metadata": {},
   "source": [
    "Rules for naming varibales\n",
    "- idenfireis can be combinatioon of upercase and lowercase letters , digits or an underscore _ so my varbaible,   varibles_1 , vairbailes-for-print all are vaild python identifres\n",
    "\n",
    "\n",
    "- an indetifer can not start with digits so while variables is valid ,   1varabiles is not valid\n",
    "\n",
    "- we can't use specieals symbols like ,    ! # % & $  etc in our identifires \n",
    "\n",
    "- identifier can be of any length "
   ]
  },
  {
   "cell_type": "markdown",
   "id": "1d24f7f6",
   "metadata": {},
   "source": [
    "Data types\n",
    "- integrs\n",
    "- string\n",
    "- flot\n",
    "- boolean\n",
    "- none\n"
   ]
  },
  {
   "cell_type": "markdown",
   "id": "8ba10a64",
   "metadata": {},
   "source": [
    "Resvressd keywrods\n",
    "\n",
    "- and , else, in, retrun\n",
    "- as except, is , true,\n",
    "- assert , finally , lambada, try\n",
    "- break, false, nonlocal, with\n",
    "- class, for, none, while\n",
    "- continue , from , not, yield\n",
    "- def , global, or , def if pass\n",
    "elif , import , raiase\n"
   ]
  },
  {
   "cell_type": "markdown",
   "id": "c2fe519f",
   "metadata": {},
   "source": [
    "⭐keywords can't be identifier\n",
    "⭐python is case sensitive"
   ]
  },
  {
   "cell_type": "markdown",
   "id": "9d88eafe",
   "metadata": {},
   "source": [
    "types of opertors \n",
    "- Arthmetic operater (+.-,*,%)\n",
    "- comprison/relationl operater (== , !=, < , >= )\n",
    "- Assigment opertors (=, =+ , -=, *=, %=)\n",
    "- logical operatoes (not, and , or)"
   ]
  },
  {
   "cell_type": "markdown",
   "id": "db12b3b7",
   "metadata": {},
   "source": [
    "input in python\n",
    "inputs () statment is used to accept values using keyword from user"
   ]
  }
 ],
 "metadata": {
  "kernelspec": {
   "display_name": "Python 3",
   "language": "python",
   "name": "python3"
  },
  "language_info": {
   "codemirror_mode": {
    "name": "ipython",
    "version": 3
   },
   "file_extension": ".py",
   "mimetype": "text/x-python",
   "name": "python",
   "nbconvert_exporter": "python",
   "pygments_lexer": "ipython3",
   "version": "3.13.2"
  }
 },
 "nbformat": 4,
 "nbformat_minor": 5
}
